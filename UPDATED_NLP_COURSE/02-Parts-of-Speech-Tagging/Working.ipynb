{
 "cells": [
  {
   "cell_type": "code",
   "execution_count": 1,
   "id": "7d32e9cd",
   "metadata": {},
   "outputs": [],
   "source": [
    "import spacy\n",
    "from spacy import displacy\n",
    "nlp = spacy.load('en_core_web_sm')"
   ]
  },
  {
   "cell_type": "code",
   "execution_count": 2,
   "id": "36a275c2",
   "metadata": {},
   "outputs": [],
   "source": [
    "doc = nlp(u\"The quick brown fox jumps over the lazy dog\")"
   ]
  },
  {
   "cell_type": "code",
   "execution_count": 3,
   "id": "32f5f3dd",
   "metadata": {},
   "outputs": [
    {
     "name": "stdout",
     "output_type": "stream",
     "text": [
      "jumps\n",
      "VBZ\n",
      "VERB\n"
     ]
    }
   ],
   "source": [
    "print(doc[4].text)\n",
    "print(doc[4].tag_)\n",
    "print(doc[4].pos_)"
   ]
  },
  {
   "cell_type": "code",
   "execution_count": 4,
   "id": "01c4f752",
   "metadata": {},
   "outputs": [
    {
     "name": "stdout",
     "output_type": "stream",
     "text": [
      "\n",
      "\u001b[93m    Serving on port 5001...\u001b[0m\n",
      "    Using the 'dep' visualizer\n",
      "\n",
      "\n",
      "    Shutting down server on port 5001.\n",
      "\n"
     ]
    }
   ],
   "source": [
    "displacy.serve(doc, style='dep', options={'distance':110}, port=5001)"
   ]
  },
  {
   "cell_type": "code",
   "execution_count": 5,
   "id": "96a5ea7a",
   "metadata": {},
   "outputs": [
    {
     "name": "stdout",
     "output_type": "stream",
     "text": [
      "jumps\n",
      "VBZ\n",
      "VERB\n"
     ]
    }
   ],
   "source": [
    "print(doc[4].text)\n",
    "print(doc[4].tag_)\n",
    "print(doc[4].pos_)"
   ]
  },
  {
   "cell_type": "code",
   "execution_count": null,
   "id": "2093ebfc",
   "metadata": {},
   "outputs": [],
   "source": []
  }
 ],
 "metadata": {
  "kernelspec": {
   "display_name": "Python 3 (ipykernel)",
   "language": "python",
   "name": "python3"
  },
  "language_info": {
   "codemirror_mode": {
    "name": "ipython",
    "version": 3
   },
   "file_extension": ".py",
   "mimetype": "text/x-python",
   "name": "python",
   "nbconvert_exporter": "python",
   "pygments_lexer": "ipython3",
   "version": "3.7.15"
  }
 },
 "nbformat": 4,
 "nbformat_minor": 5
}
